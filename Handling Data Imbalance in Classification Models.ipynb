{
 "cells": [
  {
   "cell_type": "code",
   "execution_count": 1,
   "id": "911eb7c3",
   "metadata": {},
   "outputs": [
    {
     "name": "stdout",
     "output_type": "stream",
     "text": [
      "Accuracy del modelo inicial: 0.81\n",
      "Accuracy del modelo balanceado: 0.74\n"
     ]
    }
   ],
   "source": [
    "import pandas as pd\n",
    "from sklearn.model_selection import train_test_split\n",
    "from sklearn.preprocessing import StandardScaler\n",
    "from sklearn.linear_model import LogisticRegression\n",
    "from sklearn.metrics import accuracy_score\n",
    "from sklearn.utils import resample\n",
    "\n",
    "# 1. Leer los datos\n",
    "churnData = pd.read_csv('files_for_lab/Customer-Churn.csv')\n",
    "\n",
    "# 2. Convertir 'TotalCharges' a tipo numérico y reemplazar valores nulos\n",
    "churnData['TotalCharges'] = pd.to_numeric(churnData['TotalCharges'], errors='coerce')\n",
    "churnData['TotalCharges'].fillna(0, inplace=True)\n",
    "\n",
    "# 3. Seleccionar y escalar características\n",
    "features = ['tenure', 'SeniorCitizen', 'MonthlyCharges', 'TotalCharges']\n",
    "X = churnData[features]\n",
    "scaler = StandardScaler()\n",
    "X_scaled = scaler.fit_transform(X)\n",
    "\n",
    "# 4. Dividir los datos en conjuntos de entrenamiento y prueba\n",
    "y = churnData['Churn']\n",
    "X_train, X_test, y_train, y_test = train_test_split(X_scaled, y, test_size=0.2, random_state=42)\n",
    "\n",
    "# 5. Construir y evaluar el modelo inicial\n",
    "model = LogisticRegression()\n",
    "model.fit(X_train, y_train)\n",
    "y_pred = model.predict(X_test)\n",
    "accuracy = accuracy_score(y_test, y_pred)\n",
    "print(f\"Accuracy del modelo inicial: {accuracy:.2f}\")\n",
    "\n",
    "# 6. Manejo del desequilibrio de datos\n",
    "class_counts = churnData['Churn'].value_counts()\n",
    "majority_class = churnData[churnData['Churn'] == 'No']\n",
    "minority_class = churnData[churnData['Churn'] == 'Yes']\n",
    "minority_class_upsampled = resample(minority_class, replace=True, n_samples=len(majority_class), random_state=42)\n",
    "balanced_data = pd.concat([majority_class, minority_class_upsampled])\n",
    "\n",
    "X_balanced = balanced_data[features]\n",
    "y_balanced = balanced_data['Churn']\n",
    "X_train_balanced, X_test_balanced, y_train_balanced, y_test_balanced = train_test_split(X_balanced, y_balanced, test_size=0.2, random_state=42)\n",
    "\n",
    "model.fit(X_train_balanced, y_train_balanced)\n",
    "y_pred_balanced = model.predict(X_test_balanced)\n",
    "accuracy_balanced = accuracy_score(y_test_balanced, y_pred_balanced)\n",
    "print(f\"Accuracy del modelo balanceado: {accuracy_balanced:.2f}\")\n"
   ]
  },
  {
   "cell_type": "code",
   "execution_count": null,
   "id": "492be901",
   "metadata": {},
   "outputs": [],
   "source": []
  }
 ],
 "metadata": {
  "kernelspec": {
   "display_name": "Python 3 (ipykernel)",
   "language": "python",
   "name": "python3"
  },
  "language_info": {
   "codemirror_mode": {
    "name": "ipython",
    "version": 3
   },
   "file_extension": ".py",
   "mimetype": "text/x-python",
   "name": "python",
   "nbconvert_exporter": "python",
   "pygments_lexer": "ipython3",
   "version": "3.9.13"
  }
 },
 "nbformat": 4,
 "nbformat_minor": 5
}
